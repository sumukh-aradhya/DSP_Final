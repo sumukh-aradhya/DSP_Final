{
  "cells": [
    {
      "cell_type": "markdown",
      "metadata": {
        "id": "0-Wyvcp2P5e4"
      },
      "source": [
        "### Import libraries"
      ]
    },
    {
      "cell_type": "code",
      "source": [
        "from google.colab import drive\n",
        "drive.mount('/content/drive')"
      ],
      "metadata": {
        "colab": {
          "base_uri": "https://localhost:8080/"
        },
        "id": "8Fpg1o8nQaAm",
        "outputId": "535cbad7-e63f-49b8-b235-c928015b10c1"
      },
      "execution_count": null,
      "outputs": [
        {
          "output_type": "stream",
          "name": "stdout",
          "text": [
            "Mounted at /content/drive\n"
          ]
        }
      ]
    },
    {
      "cell_type": "code",
      "execution_count": null,
      "metadata": {
        "colab": {
          "base_uri": "https://localhost:8080/"
        },
        "id": "ep1BR-lkP5e_",
        "outputId": "32b8ac4a-1b66-42ed-89ea-1d2557e309dc"
      },
      "outputs": [
        {
          "output_type": "stream",
          "name": "stdout",
          "text": [
            "Collecting pyspark\n",
            "  Downloading pyspark-3.5.0.tar.gz (316.9 MB)\n",
            "\u001b[2K     \u001b[90m━━━━━━━━━━━━━━━━━━━━━━━━━━━━━━━━━━━━━━━━\u001b[0m \u001b[32m316.9/316.9 MB\u001b[0m \u001b[31m2.3 MB/s\u001b[0m eta \u001b[36m0:00:00\u001b[0m\n",
            "\u001b[?25h  Preparing metadata (setup.py) ... \u001b[?25l\u001b[?25hdone\n",
            "Requirement already satisfied: py4j==0.10.9.7 in /usr/local/lib/python3.10/dist-packages (from pyspark) (0.10.9.7)\n",
            "Building wheels for collected packages: pyspark\n",
            "  Building wheel for pyspark (setup.py) ... \u001b[?25l\u001b[?25hdone\n",
            "  Created wheel for pyspark: filename=pyspark-3.5.0-py2.py3-none-any.whl size=317425345 sha256=06f596c55e70bf8de2d03770dd438d000dfd6810167e41f1b6d676fbef66f3e1\n",
            "  Stored in directory: /root/.cache/pip/wheels/41/4e/10/c2cf2467f71c678cfc8a6b9ac9241e5e44a01940da8fbb17fc\n",
            "Successfully built pyspark\n",
            "Installing collected packages: pyspark\n",
            "Successfully installed pyspark-3.5.0\n"
          ]
        }
      ],
      "source": [
        "import pandas as pd\n",
        "!pip install pyspark\n",
        "from pyspark.sql.functions import col, explode\n",
        "from pyspark import SparkContext"
      ]
    },
    {
      "cell_type": "markdown",
      "metadata": {
        "id": "UJvlUXXBP5e_"
      },
      "source": [
        "### Initiate spark session"
      ]
    },
    {
      "cell_type": "code",
      "execution_count": null,
      "metadata": {
        "id": "hz-uI-zeP5e_"
      },
      "outputs": [],
      "source": [
        "from pyspark.sql import SparkSession\n",
        "sc = SparkContext\n",
        "spark = SparkSession.builder.appName('Recommendations').getOrCreate()"
      ]
    },
    {
      "cell_type": "markdown",
      "metadata": {
        "id": "gk4SpcDrP5fA"
      },
      "source": [
        "# 1. Load data"
      ]
    },
    {
      "cell_type": "code",
      "source": [
        "products = spark.read.csv(\"/content/drive/My Drive/product_ratings.csv\",header=True)"
      ],
      "metadata": {
        "id": "x5__cCsXREeP"
      },
      "execution_count": null,
      "outputs": []
    },
    {
      "cell_type": "code",
      "execution_count": null,
      "metadata": {
        "colab": {
          "base_uri": "https://localhost:8080/"
        },
        "id": "kVM2C1L3P5fA",
        "outputId": "5924ab97-487a-47b5-eedb-4d3eee34fff2"
      },
      "outputs": [
        {
          "output_type": "stream",
          "name": "stdout",
          "text": [
            "+--------------+----------+------+----------+-------------+----------------+---------+--------------------+\n",
            "|        userId| productId|rating| timestamp|mapped_userId|mapped_productId|sentiment|      product_review|\n",
            "+--------------+----------+------+----------+-------------+----------------+---------+--------------------+\n",
            "|A2CX7LUOHB2NDG|0321732944|     5|1341100800|            0|               0| positive|Very satisfied wi...|\n",
            "|A2NWSAGRHCP8N5|0439886341|     1|1367193600|            1|               1| positive|Encountered multi...|\n",
            "|A2WNBOD3WNDNKT|0439886341|     3|1374451200|            2|               1| negative|The product is de...|\n",
            "|A1GI0U4ZRJA8WN|0439886341|     1|1334707200|            3|               1| positive|Very disappointed...|\n",
            "|A1QGNMC6O1VW39|0511189877|     5|1397433600|            4|               2|  neutral|Fantastic quality...|\n",
            "|A3J3BRHTDRFJ2G|0511189877|     2|1397433600|            5|               2| positive|Not worth the mon...|\n",
            "|A2TY0BTJOTENPG|0511189877|     5|1395878400|            6|               2|  neutral|This is exactly w...|\n",
            "|A34ATBPOK6HCHY|0511189877|     5|1395532800|            7|               2| positive|Absolutely love t...|\n",
            "| A89DO69P0XZ27|0511189877|     5|1395446400|            8|               2| negative|Very satisfied wi...|\n",
            "| AZYNQZ94U6VDB|0511189877|     5|1401321600|            9|               2|  neutral|Fantastic quality...|\n",
            "|A1DA3W4GTFXP6O|0528881469|     5|1405641600|           10|               3| positive|Very satisfied wi...|\n",
            "|A29LPQQDG7LD5J|0528881469|     1|1352073600|           11|               3|  neutral|Not worth the mon...|\n",
            "| AO94DHGC771SJ|0528881469|     5|1370131200|           12|               3|  neutral|Impressed with th...|\n",
            "| AMO214LNFCEI4|0528881469|     1|1290643200|           13|               3| negative|Had high hopes bu...|\n",
            "|A28B1G1MSJ6OO1|0528881469|     4|1280016000|           14|               3| positive|Impressed with th...|\n",
            "|A3N7T0DY83Y4IG|0528881469|     3|1283990400|           15|               3| negative|Meets basic expec...|\n",
            "|A1H8PY3QHMQQA0|0528881469|     2|1290556800|           16|               3| negative|Not worth the mon...|\n",
            "| A2CPBQ5W4OGBX|0528881469|     2|1277078400|           17|               3| negative|Very disappointed...|\n",
            "|A265MKAR2WEH3Y|0528881469|     4|1294790400|           18|               3|  neutral|This is exactly w...|\n",
            "|A37K02NKUIT68K|0528881469|     5|1293235200|           19|               3|  neutral|Absolutely love t...|\n",
            "+--------------+----------+------+----------+-------------+----------------+---------+--------------------+\n",
            "only showing top 20 rows\n",
            "\n"
          ]
        }
      ],
      "source": [
        "products.show()"
      ]
    },
    {
      "cell_type": "code",
      "execution_count": null,
      "metadata": {
        "colab": {
          "base_uri": "https://localhost:8080/"
        },
        "id": "hJfqQHyBP5fB",
        "outputId": "24577fcc-7f70-4b66-eee5-d006bf556873"
      },
      "outputs": [
        {
          "output_type": "stream",
          "name": "stdout",
          "text": [
            "root\n",
            " |-- userId: string (nullable = true)\n",
            " |-- productId: string (nullable = true)\n",
            " |-- rating: string (nullable = true)\n",
            " |-- timestamp: string (nullable = true)\n",
            " |-- mapped_userId: string (nullable = true)\n",
            " |-- mapped_productId: string (nullable = true)\n",
            " |-- sentiment: string (nullable = true)\n",
            " |-- product_review: string (nullable = true)\n",
            "\n"
          ]
        }
      ],
      "source": [
        "products.printSchema()"
      ]
    },
    {
      "cell_type": "code",
      "execution_count": null,
      "metadata": {
        "colab": {
          "base_uri": "https://localhost:8080/"
        },
        "id": "p7jINLsBP5fB",
        "outputId": "b1a62f65-1cbc-4238-9c2d-e612375e4127"
      },
      "outputs": [
        {
          "output_type": "stream",
          "name": "stdout",
          "text": [
            "+------+-------------+----------------+\n",
            "|rating|mapped_userId|mapped_productId|\n",
            "+------+-------------+----------------+\n",
            "|   5.0|            0|               0|\n",
            "|   1.0|            1|               1|\n",
            "|   3.0|            2|               1|\n",
            "|   1.0|            3|               1|\n",
            "|   5.0|            4|               2|\n",
            "|   2.0|            5|               2|\n",
            "|   5.0|            6|               2|\n",
            "|   5.0|            7|               2|\n",
            "|   5.0|            8|               2|\n",
            "|   5.0|            9|               2|\n",
            "|   5.0|           10|               3|\n",
            "|   1.0|           11|               3|\n",
            "|   5.0|           12|               3|\n",
            "|   1.0|           13|               3|\n",
            "|   4.0|           14|               3|\n",
            "|   3.0|           15|               3|\n",
            "|   2.0|           16|               3|\n",
            "|   2.0|           17|               3|\n",
            "|   4.0|           18|               3|\n",
            "|   5.0|           19|               3|\n",
            "+------+-------------+----------------+\n",
            "only showing top 20 rows\n",
            "\n"
          ]
        }
      ],
      "source": [
        "#droping columns that are not needed for running ALS alogrithm\n",
        "products = products.\\\n",
        "    withColumn('mapped_userId', col('mapped_userId').cast('integer')).\\\n",
        "    withColumn('mapped_productId', col('mapped_productId').cast('integer')).\\\n",
        "    withColumn('rating', col('rating').cast('float')).\\\n",
        "    drop('timestamp').\\\n",
        "    drop('userId').\\\n",
        "    drop('productId').\\\n",
        "    drop('sentiment').\\\n",
        "    drop('product_review')\n",
        "products.show()"
      ]
    },
    {
      "cell_type": "markdown",
      "metadata": {
        "id": "gPYiTn0iP5fB"
      },
      "source": [
        "## Calculate sparsity"
      ]
    },
    {
      "cell_type": "code",
      "execution_count": null,
      "metadata": {
        "colab": {
          "base_uri": "https://localhost:8080/"
        },
        "id": "2NJOxFbYP5fB",
        "outputId": "e6044a4b-cd7a-4aee-8698-d937e84988e1"
      },
      "outputs": [
        {
          "output_type": "stream",
          "name": "stdout",
          "text": [
            "The ratings dataframe is  100.00% empty.\n"
          ]
        }
      ],
      "source": [
        "# Count the total number of ratings in the dataset\n",
        "numerator = products.select(\"rating\").count()\n",
        "\n",
        "# Count the number of distinct userIds and distinct movieIds\n",
        "num_users = products.select(\"mapped_userId\").distinct().count()\n",
        "num_products = products.select(\"mapped_productId\").distinct().count()\n",
        "\n",
        "# Set the denominator equal to the number of users multiplied by the number of movies\n",
        "denominator = num_users * num_products\n",
        "\n",
        "# Divide the numerator by the denominator\n",
        "sparsity = (1.0 - (numerator *1.0)/denominator)*100\n",
        "print(\"The ratings dataframe is \", \"%.2f\" % sparsity + \"% empty.\")"
      ]
    },
    {
      "cell_type": "markdown",
      "metadata": {
        "id": "O8iXltmeP5fB"
      },
      "source": [
        "## Interpret ratings"
      ]
    },
    {
      "cell_type": "code",
      "execution_count": null,
      "metadata": {
        "colab": {
          "base_uri": "https://localhost:8080/"
        },
        "id": "HU-4EzxmP5fC",
        "outputId": "c6ea1ee4-4515-42e3-8d5a-f84e0383b7db"
      },
      "outputs": [
        {
          "output_type": "stream",
          "name": "stdout",
          "text": [
            "+-------------+-----+\n",
            "|mapped_userId|count|\n",
            "+-------------+-----+\n",
            "|         2145|  250|\n",
            "|        10837|  245|\n",
            "|        38781|  147|\n",
            "|        10529|   80|\n",
            "|         7292|   73|\n",
            "|         8616|   70|\n",
            "|         7688|   68|\n",
            "|       113226|   64|\n",
            "|        10840|   61|\n",
            "|        31912|   59|\n",
            "|        12590|   57|\n",
            "|        12117|   56|\n",
            "|        17181|   56|\n",
            "|        27396|   54|\n",
            "|        30019|   52|\n",
            "|         7351|   52|\n",
            "|         8859|   50|\n",
            "|         9342|   49|\n",
            "|         9256|   41|\n",
            "|        15104|   40|\n",
            "+-------------+-----+\n",
            "only showing top 20 rows\n",
            "\n"
          ]
        }
      ],
      "source": [
        "# Group data by userId, count ratings\n",
        "userId_ratings = products.groupBy(\"mapped_userId\").count().orderBy('count', ascending=False)\n",
        "userId_ratings.show()"
      ]
    },
    {
      "cell_type": "code",
      "execution_count": null,
      "metadata": {
        "colab": {
          "base_uri": "https://localhost:8080/"
        },
        "id": "6jtsB0fBP5fC",
        "outputId": "e9db9b6f-32a0-480a-ab6d-fe354f3c0afb"
      },
      "outputs": [
        {
          "output_type": "stream",
          "name": "stdout",
          "text": [
            "+----------------+-----+\n",
            "|mapped_productId|count|\n",
            "+----------------+-----+\n",
            "|           24438| 5345|\n",
            "|           14182| 3523|\n",
            "|           14779| 2608|\n",
            "|            5129| 2547|\n",
            "|            2110| 2075|\n",
            "|           17468| 1978|\n",
            "|           14179| 1962|\n",
            "|           14633| 1816|\n",
            "|           14318| 1735|\n",
            "|            9387| 1714|\n",
            "|            3267| 1692|\n",
            "|            2247| 1586|\n",
            "|           14300| 1568|\n",
            "|            9389| 1304|\n",
            "|            7344| 1296|\n",
            "|            8103| 1287|\n",
            "|           15096| 1139|\n",
            "|           13776| 1134|\n",
            "|           19326| 1117|\n",
            "|            7087| 1107|\n",
            "+----------------+-----+\n",
            "only showing top 20 rows\n",
            "\n"
          ]
        }
      ],
      "source": [
        "# Group data by userId, count ratings\n",
        "product_ratings = products.groupBy(\"mapped_productId\").count().orderBy('count', ascending=False)\n",
        "product_ratings.show()"
      ]
    },
    {
      "cell_type": "markdown",
      "metadata": {
        "id": "5EsIc8XvP5fC"
      },
      "source": [
        "## Build Out An ALS Model"
      ]
    },
    {
      "cell_type": "code",
      "execution_count": null,
      "metadata": {
        "id": "enWtrv4zP5fC"
      },
      "outputs": [],
      "source": [
        "# Import the required functions for running the model\n",
        "from pyspark.ml.evaluation import RegressionEvaluator\n",
        "from pyspark.ml.recommendation import ALS\n",
        "from pyspark.ml.tuning import ParamGridBuilder, CrossValidator"
      ]
    },
    {
      "cell_type": "code",
      "source": [
        "products = products.limit(10000)"
      ],
      "metadata": {
        "id": "JlXNm2dwWA0m"
      },
      "execution_count": null,
      "outputs": []
    },
    {
      "cell_type": "code",
      "execution_count": null,
      "metadata": {
        "colab": {
          "base_uri": "https://localhost:8080/"
        },
        "id": "-J-Zt7LcP5fC",
        "outputId": "3a1efbe7-9802-45ba-c255-11ae3498f2a7"
      },
      "outputs": [
        {
          "output_type": "execute_result",
          "data": {
            "text/plain": [
              "pyspark.ml.recommendation.ALS"
            ]
          },
          "metadata": {},
          "execution_count": 15
        }
      ],
      "source": [
        "# Create test and train set\n",
        "(train, test) = products.randomSplit([0.8, 0.2], seed = 1234)\n",
        "\n",
        "# Create ALS model\n",
        "als = ALS(userCol=\"mapped_userId\", itemCol=\"mapped_productId\", ratingCol=\"rating\", nonnegative = True, implicitPrefs = False, coldStartStrategy=\"drop\")\n",
        "\n",
        "# Confirm that a model called \"als\" was created\n",
        "type(als)"
      ]
    },
    {
      "cell_type": "code",
      "source": [
        "train.printSchema()"
      ],
      "metadata": {
        "colab": {
          "base_uri": "https://localhost:8080/"
        },
        "id": "qBtXvnagTNCL",
        "outputId": "4def5169-be3c-41c0-f3ae-ed3e2e355e54"
      },
      "execution_count": null,
      "outputs": [
        {
          "output_type": "stream",
          "name": "stdout",
          "text": [
            "root\n",
            " |-- rating: float (nullable = true)\n",
            " |-- mapped_userId: integer (nullable = true)\n",
            " |-- mapped_productId: integer (nullable = true)\n",
            "\n"
          ]
        }
      ]
    },
    {
      "cell_type": "markdown",
      "metadata": {
        "id": "on7zNg6-P5fC"
      },
      "source": [
        "## Tell Spark how to tune your ALS model"
      ]
    },
    {
      "cell_type": "code",
      "execution_count": null,
      "metadata": {
        "colab": {
          "base_uri": "https://localhost:8080/"
        },
        "id": "49IZxW09P5fC",
        "outputId": "8d01b2fc-403a-414d-8121-7faac1ebc854"
      },
      "outputs": [
        {
          "output_type": "stream",
          "name": "stdout",
          "text": [
            "Num models to be tested:  16\n"
          ]
        }
      ],
      "source": [
        "# Import the requisite items\n",
        "from pyspark.ml.evaluation import RegressionEvaluator\n",
        "from pyspark.ml.tuning import ParamGridBuilder, CrossValidator\n",
        "\n",
        "# Add hyperparameters and their respective values to param_grid\n",
        "param_grid = ParamGridBuilder() \\\n",
        "            .addGrid(als.rank, [10, 50, 100, 150]) \\\n",
        "            .addGrid(als.regParam, [.01, .05, .1, .15]) \\\n",
        "            .build()\n",
        "            #             .addGrid(als.maxIter, [5, 50, 100, 200]) \\\n",
        "\n",
        "\n",
        "# Define evaluator as RMSE and print length of evaluator\n",
        "evaluator = RegressionEvaluator(metricName=\"rmse\", labelCol=\"rating\", predictionCol=\"prediction\")\n",
        "print (\"Num models to be tested: \", len(param_grid))"
      ]
    },
    {
      "cell_type": "markdown",
      "metadata": {
        "id": "hzQ2sfCEP5fC"
      },
      "source": [
        "## Build your cross validation pipeline"
      ]
    },
    {
      "cell_type": "code",
      "execution_count": null,
      "metadata": {
        "colab": {
          "base_uri": "https://localhost:8080/"
        },
        "id": "QaMBzdr7P5fC",
        "outputId": "1d6ab8d8-fca7-4d8d-854e-9d8c454f5a77"
      },
      "outputs": [
        {
          "output_type": "stream",
          "name": "stdout",
          "text": [
            "CrossValidator_316d761cdc46\n"
          ]
        }
      ],
      "source": [
        "# Build cross validation using CrossValidator\n",
        "cv = CrossValidator(estimator=als, estimatorParamMaps=param_grid, evaluator=evaluator, numFolds=5)\n",
        "\n",
        "# Confirm the cross validator was was built\n",
        "print(cv)"
      ]
    },
    {
      "cell_type": "markdown",
      "metadata": {
        "id": "uzwPxYLiP5fC"
      },
      "source": [
        "## Best Model and Best Model Parameters"
      ]
    },
    {
      "cell_type": "code",
      "execution_count": null,
      "metadata": {
        "id": "47g4tgNcP5fF"
      },
      "outputs": [],
      "source": [
        "#Fit cross validator to the 'train' dataset\n",
        "model = cv.fit(train)\n",
        "\n",
        "#Extract best model from the cv model above\n",
        "best_model = model.bestModel"
      ]
    },
    {
      "cell_type": "code",
      "execution_count": null,
      "metadata": {
        "id": "HDhR6XbdP5fF",
        "outputId": "c585b7b6-733d-4e19-e0de-49e76f5f8f64",
        "colab": {
          "base_uri": "https://localhost:8080/"
        }
      },
      "outputs": [
        {
          "output_type": "stream",
          "name": "stdout",
          "text": [
            "<class 'pyspark.ml.recommendation.ALSModel'>\n",
            "**Best Model**\n",
            "  Rank: 100\n",
            "  MaxIter: 10\n",
            "  RegParam: 0.01\n"
          ]
        }
      ],
      "source": [
        "\n",
        "# Print best_model\n",
        "print(type(best_model))\n",
        "\n",
        "# Complete the code below to extract the ALS model parameters\n",
        "print(\"**Best Model**\")\n",
        "\n",
        "# # Print \"Rank\"\n",
        "print(\"  Rank:\", best_model._java_obj.parent().getRank())\n",
        "\n",
        "# Print \"MaxIter\"\n",
        "print(\"  MaxIter:\", best_model._java_obj.parent().getMaxIter())\n",
        "\n",
        "# Print \"RegParam\"\n",
        "print(\"  RegParam:\", best_model._java_obj.parent().getRegParam())"
      ]
    },
    {
      "cell_type": "code",
      "execution_count": null,
      "metadata": {
        "scrolled": true,
        "id": "NkXUatz2P5fF",
        "outputId": "655ee0d1-5561-4861-d94b-9d0c0b0b9664",
        "colab": {
          "base_uri": "https://localhost:8080/"
        }
      },
      "outputs": [
        {
          "output_type": "stream",
          "name": "stdout",
          "text": [
            "2.5294613217256985\n"
          ]
        }
      ],
      "source": [
        "# View the predictions for ALS model\n",
        "test_pred = best_model.transform(test)\n",
        "RMSE = evaluator.evaluate(test_predictions)\n",
        "print(RMSE)"
      ]
    },
    {
      "cell_type": "code",
      "execution_count": null,
      "metadata": {
        "id": "MPP0DzW5P5fF",
        "outputId": "9e9d19cb-f5c5-4cf3-fa1f-435430758a97",
        "colab": {
          "base_uri": "https://localhost:8080/"
        }
      },
      "outputs": [
        {
          "output_type": "stream",
          "name": "stdout",
          "text": [
            "+------+-------------+----------------+----------+\n",
            "|rating|mapped_userId|mapped_productId|prediction|\n",
            "+------+-------------+----------------+----------+\n",
            "|   1.0|         1270|              46|0.96472883|\n",
            "|   5.0|         7333|            1196|  4.497788|\n",
            "|   1.0|         9035|            1263| 0.9752621|\n",
            "|   4.0|         7838|            1218| 2.2418604|\n",
            "|   5.0|         3017|             297|0.47522694|\n",
            "|   4.0|         3010|            1262|0.68607277|\n",
            "|   1.0|         7823|            1301| 1.6133895|\n",
            "|   5.0|         2227|              59| 1.6761053|\n",
            "|   5.0|         4277|             252| 1.2059135|\n",
            "|   5.0|         2612|              64| 2.2413585|\n",
            "|   5.0|         2138|              62| 2.4554198|\n",
            "|   4.0|         8009|            1227| 2.0455399|\n",
            "|   4.0|         7349|            1235|  2.904678|\n",
            "|   4.0|         4544|             280| 1.3838326|\n",
            "|   5.0|         7739|            1215| 1.2970033|\n",
            "|   3.0|         8673|            1256| 3.9187438|\n",
            "|   5.0|         1360|              52|  2.089656|\n",
            "|   5.0|         7795|            1218| 3.2946496|\n",
            "|   1.0|         1420|              52|0.33675778|\n",
            "|   5.0|          754|              37|  0.638312|\n",
            "+------+-------------+----------------+----------+\n",
            "only showing top 20 rows\n",
            "\n"
          ]
        }
      ],
      "source": [
        "test_pred.show()"
      ]
    },
    {
      "cell_type": "markdown",
      "metadata": {
        "id": "gh-z1IKlP5fF"
      },
      "source": [
        "## Make Recommendations"
      ]
    },
    {
      "cell_type": "code",
      "execution_count": null,
      "metadata": {
        "id": "UN0HbMEcP5fF",
        "outputId": "a13475e6-0bb0-4a04-b82a-e65dc47ef921",
        "colab": {
          "base_uri": "https://localhost:8080/"
        }
      },
      "outputs": [
        {
          "output_type": "stream",
          "name": "stdout",
          "text": [
            "+-------------+--------------------+\n",
            "|mapped_userId|     recommendations|\n",
            "+-------------+--------------------+\n",
            "|            1|[{273, 3.4106715}...|\n",
            "|            5|[{2, 1.9997269}, ...|\n",
            "|            6|[{2, 4.999318}, {...|\n",
            "|           12|[{3, 4.998765}, {...|\n",
            "|           13|[{3, 0.999753}, {...|\n",
            "|           15|[{3, 2.9992588}, ...|\n",
            "|           16|[{3, 1.999506}, {...|\n",
            "|           17|[{3, 1.999506}, {...|\n",
            "|           19|[{3, 4.998765}, {...|\n",
            "|           20|[{3, 3.999012}, {...|\n",
            "+-------------+--------------------+\n",
            "\n"
          ]
        }
      ],
      "source": [
        "# Generate n Recommendations for all users\n",
        "nrec = best_model.recommendForAllUsers(10)\n",
        "nrec.limit(10).show()"
      ]
    },
    {
      "cell_type": "markdown",
      "source": [
        "### Check if any recommendations make any sense?"
      ],
      "metadata": {
        "id": "bbliMo4Swce0"
      }
    },
    {
      "cell_type": "code",
      "source": [
        "nrec.filter('userId = 100').show()"
      ],
      "metadata": {
        "id": "CcJ1nqu8wa6O"
      },
      "execution_count": null,
      "outputs": []
    },
    {
      "cell_type": "code",
      "source": [],
      "metadata": {
        "id": "hX4Hog-cbo36"
      },
      "execution_count": null,
      "outputs": []
    }
  ],
  "metadata": {
    "kernelspec": {
      "display_name": "Python 3",
      "language": "python",
      "name": "python3"
    },
    "language_info": {
      "codemirror_mode": {
        "name": "ipython",
        "version": 3
      },
      "file_extension": ".py",
      "mimetype": "text/x-python",
      "name": "python",
      "nbconvert_exporter": "python",
      "pygments_lexer": "ipython3",
      "version": "3.7.3"
    },
    "colab": {
      "provenance": []
    }
  },
  "nbformat": 4,
  "nbformat_minor": 0
}